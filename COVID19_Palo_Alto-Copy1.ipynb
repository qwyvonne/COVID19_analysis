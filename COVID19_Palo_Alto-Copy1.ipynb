{
 "cells": [
  {
   "cell_type": "code",
   "execution_count": 19,
   "metadata": {
    "scrolled": true
   },
   "outputs": [
    {
     "ename": "SyntaxError",
     "evalue": "invalid syntax (<ipython-input-19-c4a865005805>, line 2)",
     "output_type": "error",
     "traceback": [
      "\u001b[1;36m  File \u001b[1;32m\"<ipython-input-19-c4a865005805>\"\u001b[1;36m, line \u001b[1;32m2\u001b[0m\n\u001b[1;33m    $ pip install langdetect\u001b[0m\n\u001b[1;37m    ^\u001b[0m\n\u001b[1;31mSyntaxError\u001b[0m\u001b[1;31m:\u001b[0m invalid syntax\n"
     ]
    }
   ],
   "source": [
    "!pip install GetOldTweets3"
   ]
  },
  {
   "cell_type": "code",
   "execution_count": 20,
   "metadata": {},
   "outputs": [
    {
     "name": "stdout",
     "output_type": "stream",
     "text": [
      "Collecting langdetect\n",
      "  Downloading https://files.pythonhosted.org/packages/56/a3/8407c1e62d5980188b4acc45ef3d94b933d14a2ebc9ef3505f22cf772570/langdetect-1.0.8.tar.gz (981kB)\n",
      "Requirement already satisfied: six in c:\\users\\qw508\\anaconda3\\lib\\site-packages (from langdetect) (1.12.0)\n",
      "Building wheels for collected packages: langdetect\n",
      "  Building wheel for langdetect (setup.py): started\n",
      "  Building wheel for langdetect (setup.py): finished with status 'done'\n",
      "  Stored in directory: C:\\Users\\qw508\\AppData\\Local\\pip\\Cache\\wheels\\8d\\b3\\aa\\6d99de9f3841d7d3d40a60ea06e6d669e8e5012e6c8b947a57\n",
      "Successfully built langdetect\n",
      "Installing collected packages: langdetect\n",
      "Successfully installed langdetect-1.0.8\n"
     ]
    }
   ],
   "source": [
    "! pip install langdetect"
   ]
  },
  {
   "cell_type": "code",
   "execution_count": 31,
   "metadata": {},
   "outputs": [],
   "source": [
    "from langdetect import detect"
   ]
  },
  {
   "cell_type": "code",
   "execution_count": 37,
   "metadata": {},
   "outputs": [],
   "source": [
    "# Importing GetOldTweets3\n",
    "import GetOldTweets3 as got\n",
    "# Importing pandas\n",
    "import pandas as pd\n",
    "def get_tweets(region, startdate, enddate, maxtweet):\n",
    "    tweetCriteria = got.manager.TweetCriteria().setQuerySearch(\"COVID19\")\\\n",
    "                                            .setSince(startdate)\\\n",
    "                                            .setUntil(enddate)\\\n",
    "                                            .setNear(region)\\\n",
    "                                            .setWithin(\"25mi\")\\\n",
    "                                            .setMaxTweets(maxtweet)\\\n",
    "                                            .setLang('en')\n",
    "    tweet = got.manager.TweetManager.getTweets(tweetCriteria)\n",
    "    \n",
    "    text_tweets = [[tw.username,\n",
    "                tw.text,\n",
    "                tw.date,\n",
    "                tw.mentions,\n",
    "                tw.hashtags,\n",
    "                tw.geo] for tw in tweet]\n",
    "    df_state= pd.DataFrame(text_tweets, columns = ['User', 'Text', 'Date', 'Mentions','Hashtags', 'Geolocation'])\n",
    "    \n",
    "    return df_state"
   ]
  },
  {
   "cell_type": "code",
   "execution_count": 38,
   "metadata": {},
   "outputs": [
    {
     "data": {
      "text/html": [
       "<div>\n",
       "<style scoped>\n",
       "    .dataframe tbody tr th:only-of-type {\n",
       "        vertical-align: middle;\n",
       "    }\n",
       "\n",
       "    .dataframe tbody tr th {\n",
       "        vertical-align: top;\n",
       "    }\n",
       "\n",
       "    .dataframe thead th {\n",
       "        text-align: right;\n",
       "    }\n",
       "</style>\n",
       "<table border=\"1\" class=\"dataframe\">\n",
       "  <thead>\n",
       "    <tr style=\"text-align: right;\">\n",
       "      <th></th>\n",
       "      <th>User</th>\n",
       "      <th>Text</th>\n",
       "      <th>Date</th>\n",
       "      <th>Mentions</th>\n",
       "      <th>Hashtags</th>\n",
       "      <th>Geolocation</th>\n",
       "    </tr>\n",
       "  </thead>\n",
       "  <tbody>\n",
       "    <tr>\n",
       "      <th>0</th>\n",
       "      <td>Mapoftheseoul7</td>\n",
       "      <td>======• 13 •====== You’re so lovely, I hope Co...</td>\n",
       "      <td>2020-04-19 23:59:32+00:00</td>\n",
       "      <td></td>\n",
       "      <td></td>\n",
       "      <td></td>\n",
       "    </tr>\n",
       "    <tr>\n",
       "      <th>1</th>\n",
       "      <td>BioDecoded</td>\n",
       "      <td>CRISPR–Cas12-based detection of SARS-CoV-2 | N...</td>\n",
       "      <td>2020-04-19 23:58:24+00:00</td>\n",
       "      <td></td>\n",
       "      <td>#COVID19</td>\n",
       "      <td></td>\n",
       "    </tr>\n",
       "    <tr>\n",
       "      <th>2</th>\n",
       "      <td>bitwriter</td>\n",
       "      <td>I'm guessing that the places he wants to reope...</td>\n",
       "      <td>2020-04-19 23:52:28+00:00</td>\n",
       "      <td></td>\n",
       "      <td></td>\n",
       "      <td></td>\n",
       "    </tr>\n",
       "    <tr>\n",
       "      <th>3</th>\n",
       "      <td>KartheeMadasamy</td>\n",
       "      <td>Very True! How can we get hospitals to publish...</td>\n",
       "      <td>2020-04-19 23:47:40+00:00</td>\n",
       "      <td></td>\n",
       "      <td></td>\n",
       "      <td></td>\n",
       "    </tr>\n",
       "    <tr>\n",
       "      <th>4</th>\n",
       "      <td>drfishman</td>\n",
       "      <td>Symptomatic #COVID19 -19 Infection in #EyeProf...</td>\n",
       "      <td>2020-04-19 23:45:37+00:00</td>\n",
       "      <td></td>\n",
       "      <td>#COVID19 #EyeProfessionals #PPE</td>\n",
       "      <td></td>\n",
       "    </tr>\n",
       "  </tbody>\n",
       "</table>\n",
       "</div>"
      ],
      "text/plain": [
       "              User                                               Text  \\\n",
       "0   Mapoftheseoul7  ======• 13 •====== You’re so lovely, I hope Co...   \n",
       "1       BioDecoded  CRISPR–Cas12-based detection of SARS-CoV-2 | N...   \n",
       "2        bitwriter  I'm guessing that the places he wants to reope...   \n",
       "3  KartheeMadasamy  Very True! How can we get hospitals to publish...   \n",
       "4        drfishman  Symptomatic #COVID19 -19 Infection in #EyeProf...   \n",
       "\n",
       "                       Date Mentions                         Hashtags  \\\n",
       "0 2020-04-19 23:59:32+00:00                                             \n",
       "1 2020-04-19 23:58:24+00:00                                  #COVID19   \n",
       "2 2020-04-19 23:52:28+00:00                                             \n",
       "3 2020-04-19 23:47:40+00:00                                             \n",
       "4 2020-04-19 23:45:37+00:00           #COVID19 #EyeProfessionals #PPE   \n",
       "\n",
       "  Geolocation  \n",
       "0              \n",
       "1              \n",
       "2              \n",
       "3              \n",
       "4              "
      ]
     },
     "execution_count": 38,
     "metadata": {},
     "output_type": "execute_result"
    }
   ],
   "source": [
    "df_1 = get_tweets('Palo Alto, California', \"2020-04-01\", \"2020-04-20\", 1000)\n",
    "df_1.head()"
   ]
  },
  {
   "cell_type": "code",
   "execution_count": 29,
   "metadata": {},
   "outputs": [
    {
     "name": "stdout",
     "output_type": "stream",
     "text": [
      "                                                Text\n",
      "0  ======• 13 •====== You’re so lovely, I hope Co...\n",
      "1  CRISPR–Cas12-based detection of SARS-CoV-2 | N...\n",
      "2  Ya esta al aire el ep72 sobre Cómo sobrellevar...\n",
      "3  I'm guessing that the places he wants to reope...\n",
      "4  Tips for #dementia #familyCaregivers in long-t...\n",
      "5  Very True! How can we get hospitals to publish...\n",
      "6  Symptomatic #COVID19 -19 Infection in #EyeProf...\n",
      "7  China has been accused and this is wrong. A fu...\n",
      "8  My Odia Song under quarantine. #OdiaSong #Puni...\n",
      "9  Due to a data update in the Reportable Disease...\n"
     ]
    }
   ],
   "source": [
    "print(df_1[['Text']])"
   ]
  }
 ],
 "metadata": {
  "kernelspec": {
   "display_name": "Python 3",
   "language": "python",
   "name": "python3"
  },
  "language_info": {
   "codemirror_mode": {
    "name": "ipython",
    "version": 3
   },
   "file_extension": ".py",
   "mimetype": "text/x-python",
   "name": "python",
   "nbconvert_exporter": "python",
   "pygments_lexer": "ipython3",
   "version": "3.7.3"
  }
 },
 "nbformat": 4,
 "nbformat_minor": 2
}
