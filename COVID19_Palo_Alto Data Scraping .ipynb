{
 "cells": [
  {
   "cell_type": "code",
   "execution_count": 3,
   "metadata": {},
   "outputs": [
    {
     "name": "stdout",
     "output_type": "stream",
     "text": [
      "Requirement already satisfied: gensim in c:\\users\\qw508\\anaconda3\\lib\\site-packages (3.8.3)\n",
      "Requirement already satisfied: six>=1.5.0 in c:\\users\\qw508\\anaconda3\\lib\\site-packages (from gensim) (1.12.0)\n",
      "Requirement already satisfied: smart-open>=1.8.1 in c:\\users\\qw508\\anaconda3\\lib\\site-packages (from gensim) (2.0.0)\n",
      "Requirement already satisfied: numpy>=1.11.3 in c:\\users\\qw508\\anaconda3\\lib\\site-packages (from gensim) (1.16.2)\n",
      "Requirement already satisfied: scipy>=0.18.1 in c:\\users\\qw508\\anaconda3\\lib\\site-packages (from gensim) (1.2.1)\n",
      "Requirement already satisfied: Cython==0.29.14 in c:\\users\\qw508\\anaconda3\\lib\\site-packages (from gensim) (0.29.14)\n",
      "Requirement already satisfied: requests in c:\\users\\qw508\\anaconda3\\lib\\site-packages (from smart-open>=1.8.1->gensim) (2.21.0)\n",
      "Requirement already satisfied: boto3 in c:\\users\\qw508\\anaconda3\\lib\\site-packages (from smart-open>=1.8.1->gensim) (1.13.10)\n",
      "Requirement already satisfied: boto in c:\\users\\qw508\\anaconda3\\lib\\site-packages (from smart-open>=1.8.1->gensim) (2.49.0)\n",
      "Requirement already satisfied: idna<2.9,>=2.5 in c:\\users\\qw508\\anaconda3\\lib\\site-packages (from requests->smart-open>=1.8.1->gensim) (2.8)\n",
      "Requirement already satisfied: chardet<3.1.0,>=3.0.2 in c:\\users\\qw508\\anaconda3\\lib\\site-packages (from requests->smart-open>=1.8.1->gensim) (3.0.4)\n",
      "Requirement already satisfied: certifi>=2017.4.17 in c:\\users\\qw508\\anaconda3\\lib\\site-packages (from requests->smart-open>=1.8.1->gensim) (2019.3.9)\n",
      "Requirement already satisfied: urllib3<1.25,>=1.21.1 in c:\\users\\qw508\\anaconda3\\lib\\site-packages (from requests->smart-open>=1.8.1->gensim) (1.24.1)\n",
      "Requirement already satisfied: jmespath<1.0.0,>=0.7.1 in c:\\users\\qw508\\anaconda3\\lib\\site-packages (from boto3->smart-open>=1.8.1->gensim) (0.10.0)\n",
      "Requirement already satisfied: botocore<1.17.0,>=1.16.10 in c:\\users\\qw508\\anaconda3\\lib\\site-packages (from boto3->smart-open>=1.8.1->gensim) (1.16.10)\n",
      "Requirement already satisfied: s3transfer<0.4.0,>=0.3.0 in c:\\users\\qw508\\anaconda3\\lib\\site-packages (from boto3->smart-open>=1.8.1->gensim) (0.3.3)\n",
      "Requirement already satisfied: python-dateutil<3.0.0,>=2.1 in c:\\users\\qw508\\anaconda3\\lib\\site-packages (from botocore<1.17.0,>=1.16.10->boto3->smart-open>=1.8.1->gensim) (2.8.0)\n",
      "Requirement already satisfied: docutils<0.16,>=0.10 in c:\\users\\qw508\\anaconda3\\lib\\site-packages (from botocore<1.17.0,>=1.16.10->boto3->smart-open>=1.8.1->gensim) (0.14)\n"
     ]
    },
    {
     "name": "stderr",
     "output_type": "stream",
     "text": [
      "[nltk_data] Downloading package stopwords to\n",
      "[nltk_data]     C:\\Users\\qw508\\AppData\\Roaming\\nltk_data...\n",
      "[nltk_data]   Package stopwords is already up-to-date!\n",
      "[nltk_data] Downloading package wordnet to\n",
      "[nltk_data]     C:\\Users\\qw508\\AppData\\Roaming\\nltk_data...\n",
      "[nltk_data]   Package wordnet is already up-to-date!\n"
     ]
    }
   ],
   "source": [
    "from sklearn.linear_model import LogisticRegression\n",
    "from sklearn.model_selection import train_test_split\n",
    "from sklearn.metrics import f1_score\n",
    "from sklearn.feature_extraction.text import TfidfVectorizer, CountVectorizer \n",
    "!pip install gensim \n",
    "import nltk\n",
    "import string\n",
    "from nltk.tokenize import RegexpTokenizer\n",
    "nltk.download('stopwords')\n",
    "from nltk.stem import WordNetLemmatizer\n",
    "nltk.download('wordnet')\n",
    "from nltk.stem.porter import PorterStemmer\n",
    "import numpy as np\n",
    "import pandas as pd"
   ]
  },
  {
   "cell_type": "code",
   "execution_count": 1,
   "metadata": {
    "scrolled": true
   },
   "outputs": [
    {
     "name": "stdout",
     "output_type": "stream",
     "text": [
      "Requirement already satisfied: GetOldTweets3 in c:\\users\\qw508\\anaconda3\\lib\\site-packages (0.0.11)\n",
      "Requirement already satisfied: pyquery>=1.2.10 in c:\\users\\qw508\\anaconda3\\lib\\site-packages (from GetOldTweets3) (1.4.1)\n",
      "Requirement already satisfied: lxml>=3.5.0 in c:\\users\\qw508\\anaconda3\\lib\\site-packages (from GetOldTweets3) (4.3.2)\n",
      "Requirement already satisfied: cssselect>0.7.9 in c:\\users\\qw508\\anaconda3\\lib\\site-packages (from pyquery>=1.2.10->GetOldTweets3) (1.1.0)\n"
     ]
    }
   ],
   "source": [
    "!pip install GetOldTweets3"
   ]
  },
  {
   "cell_type": "code",
   "execution_count": 2,
   "metadata": {},
   "outputs": [
    {
     "name": "stdout",
     "output_type": "stream",
     "text": [
      "Requirement already satisfied: langdetect in c:\\users\\qw508\\anaconda3\\lib\\site-packages (1.0.8)\n",
      "Requirement already satisfied: six in c:\\users\\qw508\\anaconda3\\lib\\site-packages (from langdetect) (1.12.0)\n"
     ]
    }
   ],
   "source": [
    "! pip install langdetect"
   ]
  },
  {
   "cell_type": "code",
   "execution_count": 3,
   "metadata": {},
   "outputs": [],
   "source": [
    "from langdetect import detect"
   ]
  },
  {
   "cell_type": "code",
   "execution_count": 23,
   "metadata": {},
   "outputs": [],
   "source": [
    "# Importing GetOldTweets3\n",
    "import GetOldTweets3 as got\n",
    "def get_tweets(region, startdate, enddate, maxtweet):\n",
    "    tweetCriteria = got.manager.TweetCriteria().setQuerySearch(\"COVID\" or \"#COVID\" or \"pandemic\" or \"corona\")\\\n",
    "                                            .setSince(startdate)\\\n",
    "                                            .setUntil(enddate)\\\n",
    "                                            .setNear(region)\\\n",
    "                                            .setWithin(\"25mi\")\\\n",
    "                                            .setMaxTweets(maxtweet)\\\n",
    "                                            .setLang('en')\n",
    "    tweet = got.manager.TweetManager.getTweets(tweetCriteria)\n",
    "    \n",
    "    text_tweets = [[\n",
    "                tw.id,\n",
    "                tw.text,\n",
    "                tw.date,\n",
    "                tw.mentions,\n",
    "                tw.hashtags] for tw in tweet]\n",
    "    df_state= pd.DataFrame(text_tweets, columns = [ 'id', 'Text', 'Date', 'Mentions','Hashtags'])\n",
    "    \n",
    "    return df_state"
   ]
  },
  {
   "cell_type": "code",
   "execution_count": 25,
   "metadata": {},
   "outputs": [
    {
     "data": {
      "text/html": [
       "<div>\n",
       "<style scoped>\n",
       "    .dataframe tbody tr th:only-of-type {\n",
       "        vertical-align: middle;\n",
       "    }\n",
       "\n",
       "    .dataframe tbody tr th {\n",
       "        vertical-align: top;\n",
       "    }\n",
       "\n",
       "    .dataframe thead th {\n",
       "        text-align: right;\n",
       "    }\n",
       "</style>\n",
       "<table border=\"1\" class=\"dataframe\">\n",
       "  <thead>\n",
       "    <tr style=\"text-align: right;\">\n",
       "      <th></th>\n",
       "      <th>id</th>\n",
       "      <th>Text</th>\n",
       "      <th>Date</th>\n",
       "      <th>Mentions</th>\n",
       "      <th>Hashtags</th>\n",
       "    </tr>\n",
       "  </thead>\n",
       "  <tbody>\n",
       "    <tr>\n",
       "      <th>1603</th>\n",
       "      <td>1234165678103396352</td>\n",
       "      <td>Yes it is but now we have COVID-19 here in sev...</td>\n",
       "      <td>2020-03-01 17:16:42+00:00</td>\n",
       "      <td></td>\n",
       "      <td></td>\n",
       "    </tr>\n",
       "    <tr>\n",
       "      <th>1604</th>\n",
       "      <td>1234143435784781824</td>\n",
       "      <td>Who is overseeing the safety and protection of...</td>\n",
       "      <td>2020-03-01 15:48:19+00:00</td>\n",
       "      <td>@POTUS @VP @CDCDirector @NIH</td>\n",
       "      <td></td>\n",
       "    </tr>\n",
       "    <tr>\n",
       "      <th>1605</th>\n",
       "      <td>1234137565009080320</td>\n",
       "      <td>More great data driven #COVID updates #COVID19</td>\n",
       "      <td>2020-03-01 15:24:59+00:00</td>\n",
       "      <td></td>\n",
       "      <td>#COVID #COVID19</td>\n",
       "    </tr>\n",
       "    <tr>\n",
       "      <th>1606</th>\n",
       "      <td>1233909003677102081</td>\n",
       "      <td>Empty aisles at Costco are quite a unique sigh...</td>\n",
       "      <td>2020-03-01 00:16:46+00:00</td>\n",
       "      <td></td>\n",
       "      <td>#COVID</td>\n",
       "    </tr>\n",
       "    <tr>\n",
       "      <th>1607</th>\n",
       "      <td>1233907918774267905</td>\n",
       "      <td>Went to HMart in Santa Clara county (where a 4...</td>\n",
       "      <td>2020-03-01 00:12:27+00:00</td>\n",
       "      <td></td>\n",
       "      <td></td>\n",
       "    </tr>\n",
       "  </tbody>\n",
       "</table>\n",
       "</div>"
      ],
      "text/plain": [
       "                       id                                               Text  \\\n",
       "1603  1234165678103396352  Yes it is but now we have COVID-19 here in sev...   \n",
       "1604  1234143435784781824  Who is overseeing the safety and protection of...   \n",
       "1605  1234137565009080320     More great data driven #COVID updates #COVID19   \n",
       "1606  1233909003677102081  Empty aisles at Costco are quite a unique sigh...   \n",
       "1607  1233907918774267905  Went to HMart in Santa Clara county (where a 4...   \n",
       "\n",
       "                          Date                      Mentions         Hashtags  \n",
       "1603 2020-03-01 17:16:42+00:00                                                 \n",
       "1604 2020-03-01 15:48:19+00:00  @POTUS @VP @CDCDirector @NIH                   \n",
       "1605 2020-03-01 15:24:59+00:00                                #COVID #COVID19  \n",
       "1606 2020-03-01 00:16:46+00:00                                         #COVID  \n",
       "1607 2020-03-01 00:12:27+00:00                                                 "
      ]
     },
     "execution_count": 25,
     "metadata": {},
     "output_type": "execute_result"
    }
   ],
   "source": [
    "df_march = get_tweets('Palo Alto, California',\"2020-03-01\", \"2020-03-31\", 10000)\n",
    "df_march.head()\n",
    "df_march.tail()"
   ]
  },
  {
   "cell_type": "code",
   "execution_count": 26,
   "metadata": {},
   "outputs": [],
   "source": [
    "df_march.to_csv('C:/Users/qw508/OneDrive/Documents/march_tweet.csv')"
   ]
  }
 ],
 "metadata": {
  "kernelspec": {
   "display_name": "Python 3",
   "language": "python",
   "name": "python3"
  },
  "language_info": {
   "codemirror_mode": {
    "name": "ipython",
    "version": 3
   },
   "file_extension": ".py",
   "mimetype": "text/x-python",
   "name": "python",
   "nbconvert_exporter": "python",
   "pygments_lexer": "ipython3",
   "version": "3.7.3"
  }
 },
 "nbformat": 4,
 "nbformat_minor": 2
}
