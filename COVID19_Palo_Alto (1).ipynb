{
 "cells": [
  {
   "cell_type": "code",
   "execution_count": 39,
   "metadata": {
    "scrolled": true
   },
   "outputs": [
    {
     "name": "stdout",
     "output_type": "stream",
     "text": [
      "Requirement already satisfied: GetOldTweets3 in c:\\users\\qw508\\anaconda3\\lib\\site-packages (0.0.11)\n",
      "Requirement already satisfied: pyquery>=1.2.10 in c:\\users\\qw508\\anaconda3\\lib\\site-packages (from GetOldTweets3) (1.4.1)\n",
      "Requirement already satisfied: lxml>=3.5.0 in c:\\users\\qw508\\anaconda3\\lib\\site-packages (from GetOldTweets3) (4.3.2)\n",
      "Requirement already satisfied: cssselect>0.7.9 in c:\\users\\qw508\\anaconda3\\lib\\site-packages (from pyquery>=1.2.10->GetOldTweets3) (1.1.0)\n"
     ]
    }
   ],
   "source": [
    "!pip install GetOldTweets3"
   ]
  },
  {
   "cell_type": "code",
   "execution_count": 20,
   "metadata": {},
   "outputs": [
    {
     "name": "stdout",
     "output_type": "stream",
     "text": [
      "Collecting langdetect\n",
      "  Downloading https://files.pythonhosted.org/packages/56/a3/8407c1e62d5980188b4acc45ef3d94b933d14a2ebc9ef3505f22cf772570/langdetect-1.0.8.tar.gz (981kB)\n",
      "Requirement already satisfied: six in c:\\users\\qw508\\anaconda3\\lib\\site-packages (from langdetect) (1.12.0)\n",
      "Building wheels for collected packages: langdetect\n",
      "  Building wheel for langdetect (setup.py): started\n",
      "  Building wheel for langdetect (setup.py): finished with status 'done'\n",
      "  Stored in directory: C:\\Users\\qw508\\AppData\\Local\\pip\\Cache\\wheels\\8d\\b3\\aa\\6d99de9f3841d7d3d40a60ea06e6d669e8e5012e6c8b947a57\n",
      "Successfully built langdetect\n",
      "Installing collected packages: langdetect\n",
      "Successfully installed langdetect-1.0.8\n"
     ]
    }
   ],
   "source": [
    "! pip install langdetect"
   ]
  },
  {
   "cell_type": "code",
   "execution_count": 31,
   "metadata": {},
   "outputs": [],
   "source": [
    "from langdetect import detect"
   ]
  },
  {
   "cell_type": "code",
   "execution_count": 42,
   "metadata": {},
   "outputs": [],
   "source": [
    "# Importing GetOldTweets3\n",
    "import GetOldTweets3 as got\n",
    "# Importing pandas\n",
    "import pandas as pd\n",
    "def get_tweets(region, startdate, enddate, maxtweet):\n",
    "    tweetCriteria = got.manager.TweetCriteria().setQuerySearch(\"COVID19\")\\\n",
    "                                            .setSince(startdate)\\\n",
    "                                            .setUntil(enddate)\\\n",
    "                                            .setNear(region)\\\n",
    "                                            .setWithin(\"25mi\")\\\n",
    "                                            .setMaxTweets(maxtweet)\\\n",
    "                                            .setLang('en')\n",
    "    tweet = got.manager.TweetManager.getTweets(tweetCriteria)\n",
    "    \n",
    "    text_tweets = [[\n",
    "                tw.text,\n",
    "                tw.date,\n",
    "                tw.mentions,\n",
    "                tw.hashtags,\n",
    "                tw.geo] for tw in tweet]\n",
    "    df_state= pd.DataFrame(text_tweets, columns = [ 'Text', 'Date', 'Mentions','Hashtags', 'Geolocation'])\n",
    "    \n",
    "    return df_state"
   ]
  },
  {
   "cell_type": "code",
   "execution_count": 43,
   "metadata": {},
   "outputs": [
    {
     "data": {
      "text/html": [
       "<div>\n",
       "<style scoped>\n",
       "    .dataframe tbody tr th:only-of-type {\n",
       "        vertical-align: middle;\n",
       "    }\n",
       "\n",
       "    .dataframe tbody tr th {\n",
       "        vertical-align: top;\n",
       "    }\n",
       "\n",
       "    .dataframe thead th {\n",
       "        text-align: right;\n",
       "    }\n",
       "</style>\n",
       "<table border=\"1\" class=\"dataframe\">\n",
       "  <thead>\n",
       "    <tr style=\"text-align: right;\">\n",
       "      <th></th>\n",
       "      <th>Text</th>\n",
       "      <th>Date</th>\n",
       "      <th>Mentions</th>\n",
       "      <th>Hashtags</th>\n",
       "      <th>Geolocation</th>\n",
       "    </tr>\n",
       "  </thead>\n",
       "  <tbody>\n",
       "    <tr>\n",
       "      <th>0</th>\n",
       "      <td>======• 13 •====== You’re so lovely, I hope Co...</td>\n",
       "      <td>2020-04-19 23:59:32+00:00</td>\n",
       "      <td></td>\n",
       "      <td></td>\n",
       "      <td></td>\n",
       "    </tr>\n",
       "    <tr>\n",
       "      <th>1</th>\n",
       "      <td>CRISPR–Cas12-based detection of SARS-CoV-2 | N...</td>\n",
       "      <td>2020-04-19 23:58:24+00:00</td>\n",
       "      <td></td>\n",
       "      <td>#COVID19</td>\n",
       "      <td></td>\n",
       "    </tr>\n",
       "    <tr>\n",
       "      <th>2</th>\n",
       "      <td>I'm guessing that the places he wants to reope...</td>\n",
       "      <td>2020-04-19 23:52:28+00:00</td>\n",
       "      <td></td>\n",
       "      <td></td>\n",
       "      <td></td>\n",
       "    </tr>\n",
       "    <tr>\n",
       "      <th>3</th>\n",
       "      <td>Tips for #dementia #familyCaregivers in long-t...</td>\n",
       "      <td>2020-04-19 23:51:08+00:00</td>\n",
       "      <td></td>\n",
       "      <td>#dementia #familyCaregivers #Alzheimers #careg...</td>\n",
       "      <td></td>\n",
       "    </tr>\n",
       "    <tr>\n",
       "      <th>4</th>\n",
       "      <td>Very True! How can we get hospitals to publish...</td>\n",
       "      <td>2020-04-19 23:47:40+00:00</td>\n",
       "      <td></td>\n",
       "      <td></td>\n",
       "      <td></td>\n",
       "    </tr>\n",
       "  </tbody>\n",
       "</table>\n",
       "</div>"
      ],
      "text/plain": [
       "                                                Text  \\\n",
       "0  ======• 13 •====== You’re so lovely, I hope Co...   \n",
       "1  CRISPR–Cas12-based detection of SARS-CoV-2 | N...   \n",
       "2  I'm guessing that the places he wants to reope...   \n",
       "3  Tips for #dementia #familyCaregivers in long-t...   \n",
       "4  Very True! How can we get hospitals to publish...   \n",
       "\n",
       "                       Date Mentions  \\\n",
       "0 2020-04-19 23:59:32+00:00            \n",
       "1 2020-04-19 23:58:24+00:00            \n",
       "2 2020-04-19 23:52:28+00:00            \n",
       "3 2020-04-19 23:51:08+00:00            \n",
       "4 2020-04-19 23:47:40+00:00            \n",
       "\n",
       "                                            Hashtags Geolocation  \n",
       "0                                                                 \n",
       "1                                           #COVID19              \n",
       "2                                                                 \n",
       "3  #dementia #familyCaregivers #Alzheimers #careg...              \n",
       "4                                                                 "
      ]
     },
     "execution_count": 43,
     "metadata": {},
     "output_type": "execute_result"
    }
   ],
   "source": [
    "df_1 = get_tweets('Palo Alto, California', \"2020-04-01\", \"2020-04-20\", 1000)\n",
    "df_1.head()"
   ]
  },
  {
   "cell_type": "code",
   "execution_count": 44,
   "metadata": {},
   "outputs": [
    {
     "name": "stdout",
     "output_type": "stream",
     "text": [
      "                                                  Text\n",
      "0    ======• 13 •====== You’re so lovely, I hope Co...\n",
      "1    CRISPR–Cas12-based detection of SARS-CoV-2 | N...\n",
      "2    I'm guessing that the places he wants to reope...\n",
      "3    Tips for #dementia #familyCaregivers in long-t...\n",
      "4    Very True! How can we get hospitals to publish...\n",
      "5    Symptomatic #COVID19 -19 Infection in #EyeProf...\n",
      "6    China has been accused and this is wrong. A fu...\n",
      "7    My Odia Song under quarantine. #OdiaSong #Puni...\n",
      "8    Due to a data update in the Reportable Disease...\n",
      "9    Due to a data update in the Reportable Disease...\n",
      "10   Due to a data update in the Reportable Disease...\n",
      "11   Our team includes many individuals with #type1...\n",
      "12   @rcolonna same shit show on the left coast #co...\n",
      "13   I have a lot of questions for the “Pro Life/An...\n",
      "14   COVID19 is pretty painful and inconvenient for...\n",
      "15   @Facebook about to jump into the #gaming space...\n",
      "16   It's funny that some of us live where driving ...\n",
      "17   @pelosi @KamalaHarris @SenFeinstein @SenSchume...\n",
      "18   I’m about to start this book. Is there somethi...\n",
      "19   @realDonaldTrump I’m confused Do You Love Chin...\n",
      "20   The fact that there is no national plan on how...\n",
      "21   @narendramodi Excellently well handing of covi...\n",
      "22   @realDonaldTrump Aren't your and #IvankaTrump ...\n",
      "23   The University of Washington was the first maj...\n",
      "24   @realDonaldTrump We need more test kits! #Trum...\n",
      "25   Clear thinking on downside of hoping for herd ...\n",
      "26   @msnbc Be like @cnn! Time to cut away from #Tr...\n",
      "27   @realDonaldTrump STOP playing politics by show...\n",
      "28   Important work and thank you @gjmooremdphd @mi...\n",
      "29   @realDonaldTrump is NOT the #KingOfSwabs #Trum...\n",
      "..                                                 ...\n",
      "970  Nigerian tailors are hand-making PPE to help f...\n",
      "971  London mayor calls for masks to be worn on pub...\n",
      "972  Wow, who would’ve thought this would be our 20...\n",
      "973  London mayor calls for masks to be worn on pub...\n",
      "974  Australian mayor fined after violating stay-at...\n",
      "975  “Developed at UCSF and Mammoth Biosciences, th...\n",
      "976  Important to know. But that is water under the...\n",
      "977  Need insights on navigating the impact of #cov...\n",
      "978  #COVID19 Stupid people! Go ahead, but they nee...\n",
      "979  We all play a part! A big THANK YOU from all o...\n",
      "980  Did we not get to all of your transit related ...\n",
      "981  Australian mayor fined after violating stay-at...\n",
      "982  Australian mayor fined after violating stay-at...\n",
      "983  We provided the code upgrading you to our prem...\n",
      "984  London mayor calls for masks to be worn on pub...\n",
      "985  @realDonaldTrump @CNN What we need now: Immedi...\n",
      "986  I’ve know many families here in Bay Area that ...\n",
      "987  Show how much you love the Seniors in you life...\n",
      "988  “If there ever was a case where equality is no...\n",
      "989  Australian mayor fined after violating stay-at...\n",
      "990  San Mateo County #COVID19 Data -- Daily stats ...\n",
      "991  NEW VIDEO: We are appreciative and optimistic ...\n",
      "992  There are 5 steps you can take to really get a...\n",
      "993  London mayor calls for masks to be worn on pub...\n",
      "994  .@KPMG_US #FutureLeader Tea Binder is answerin...\n",
      "995  Subject selection bias is a great point; those...\n",
      "996  Nigerian tailors are hand-making PPE to help f...\n",
      "997               read this as \"COVID19 Made Me Dolt\" \n",
      "998  London mayor calls for masks to be worn on pub...\n",
      "999  Shinzo Abe says there are issues with WHO, and...\n",
      "\n",
      "[1000 rows x 1 columns]\n"
     ]
    }
   ],
   "source": [
    "print(df_1[['Text']])"
   ]
  }
 ],
 "metadata": {
  "kernelspec": {
   "display_name": "Python 3",
   "language": "python",
   "name": "python3"
  },
  "language_info": {
   "codemirror_mode": {
    "name": "ipython",
    "version": 3
   },
   "file_extension": ".py",
   "mimetype": "text/x-python",
   "name": "python",
   "nbconvert_exporter": "python",
   "pygments_lexer": "ipython3",
   "version": "3.7.3"
  }
 },
 "nbformat": 4,
 "nbformat_minor": 2
}
